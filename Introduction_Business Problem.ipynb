{
 "cells": [
  {
   "cell_type": "markdown",
   "metadata": {
    "collapsed": true
   },
   "source": [
    "# Battle of Neighbourhoods - WEEK 1"
   ]
  },
  {
   "cell_type": "markdown",
   "metadata": {},
   "source": [
    "## Introduction/Business Problem"
   ]
  },
  {
   "cell_type": "markdown",
   "metadata": {},
   "source": [
    "There is a steady increase in the number of immigrants settling in Canada annually. This is in part due to the friendly nature of the Canadian immigration structure. These immigrants have to settle into their new lives in Canada within the shortest possible time. This means they have to get employment, accomodation etcetera. Giving the high cost of living within the major cities, finding the ideal place to settle can be very difficult\n"
   ]
  },
  {
   "cell_type": "markdown",
   "metadata": {},
   "source": [
    "Using the city Toronto as case study, this project we will try to find the best location for a new immigrant to settle into. This project is specifically tailored to help the continuous growing number of immigrants moving to Canada find the most suited area to live in.\n",
    "We are particularly interested in areas that have a high immigrant population to help with the transition, and also areas with available businesses to provide the very needed employment.\n"
   ]
  },
  {
   "cell_type": "code",
   "execution_count": null,
   "metadata": {},
   "outputs": [],
   "source": []
  }
 ],
 "metadata": {
  "kernelspec": {
   "display_name": "Python 3.6",
   "language": "python",
   "name": "python3"
  },
  "language_info": {
   "codemirror_mode": {
    "name": "ipython",
    "version": 3
   },
   "file_extension": ".py",
   "mimetype": "text/x-python",
   "name": "python",
   "nbconvert_exporter": "python",
   "pygments_lexer": "ipython3",
   "version": "3.6.8"
  }
 },
 "nbformat": 4,
 "nbformat_minor": 1
}
